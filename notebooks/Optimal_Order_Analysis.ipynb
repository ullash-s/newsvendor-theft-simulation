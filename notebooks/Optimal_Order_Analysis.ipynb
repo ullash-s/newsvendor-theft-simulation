# Optimal_Order_Analysis.ipynb (first cell)
import numpy as np
import pandas as pd
from src.simulation_model import grid_search_summary

lambda_value = 40.0          # avg daily arrivals
num_simulations = 1000
season_lengths = [30, 45, 60]
thief_percentages = np.arange(0.00, 0.11, 0.01)  # 0% to 10%
sale_prices = [10, 20, 30]
cost_percentages = [0.15, 0.30, 0.45]
salvage_percentages = [0.15, 0.30, 0.45]

df = grid_search_summary(
    lambda_value=lambda_value,
    num_simulations=num_simulations,
    season_lengths=season_lengths,
    thief_percentages=thief_percentages,
    sale_prices=sale_prices,
    cost_percentages=cost_percentages,
    salvage_percentages=salvage_percentages,
    q_bounds=(0, 2000),
    random_seed=42
)
df.head()
with pd.ExcelWriter("NVMS_summary.xlsx", engine="xlsxwriter") as writer:
    df.to_excel(writer, sheet_name="summary", index=False)
print("Saved: NVMS_summary.xlsx")
